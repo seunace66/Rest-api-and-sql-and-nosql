{
 "cells": [
  {
   "cell_type": "markdown",
   "metadata": {},
   "source": [
    "##  Open MongoDB compass to visually see what each python commands does\n",
    "\n",
    "You'll see below screen -\n",
    "\n",
    "> ![first screen](mongo_img/compass/c1.JPG)"
   ]
  },
  {
   "cell_type": "markdown",
   "metadata": {},
   "source": [
    "### STEP 1: Create a DB"
   ]
  },
  {
   "cell_type": "code",
   "execution_count": 1,
   "metadata": {},
   "outputs": [],
   "source": [
    "import pymongo"
   ]
  },
  {
   "cell_type": "code",
   "execution_count": 2,
   "metadata": {},
   "outputs": [],
   "source": [
    "DEFAULT_CONNECTION_URL = \"mongodb://localhost:27017/\"\n",
    "DB_NAME = \"SeunDB\"\n",
    "\n",
    "# Establish a connection with mongoDB\n",
    "client = pymongo.MongoClient(DEFAULT_CONNECTION_URL)\n",
    "\n",
    "# Create a DB\n",
    "dataBase = client[DB_NAME]"
   ]
  },
  {
   "cell_type": "markdown",
   "metadata": {},
   "source": [
    "---\n",
    "\n",
    "### Paste the default URL in highlighted area of the Compass tool as shown below and click on connect\n",
    "default URL for local system:- \n",
    "```\n",
    "mongodb://localhost:27017/\n",
    "```\n",
    "\n",
    "> ![new connection](mongo_img/compass/c2.JPG)\n",
    "\n",
    "after you press connect you'll see the following screen which contains already existing databases\n",
    "\n",
    "> ![new connection](mongo_img/compass/c3.JPG)\n",
    "\n",
    "\n",
    "**NOTE** you'll not see your database untill or unless you have created first document inside it. So at present we don't have any document in our DB its name is not visible here \n",
    "\n",
    "You can also create a database by clicking on CREATE DATABSE button. You'll see a below screen (But we'll see eveyrthing using python)\n",
    "\n",
    "> ![new connection](mongo_img/compass/c4.JPG)"
   ]
  },
  {
   "cell_type": "code",
   "execution_count": 3,
   "metadata": {},
   "outputs": [
    {
     "data": {
      "text/plain": [
       "['admin', 'config', 'local']"
      ]
     },
     "execution_count": 3,
     "metadata": {},
     "output_type": "execute_result"
    }
   ],
   "source": [
    "# lets see what the existing list of DBs -\n",
    "\n",
    "client.list_database_names()"
   ]
  },
  {
   "cell_type": "code",
   "execution_count": 4,
   "metadata": {},
   "outputs": [
    {
     "name": "stdout",
     "output_type": "stream",
     "text": [
      "DB: 'SeunDB' not yet present OR no collection is present in the DB\n"
     ]
    }
   ],
   "source": [
    "# let's verify whether we have our database in the list or not \n",
    "# we'll use the following function:-\n",
    "\n",
    "def checkExistence_DB(DB_NAME, client):\n",
    "    \"\"\"It verifies the existence of DB\"\"\"\n",
    "    DBlist = client.list_database_names()\n",
    "    if DB_NAME in DBlist:\n",
    "        print(f\"DB: '{DB_NAME}' exists\")\n",
    "        return True\n",
    "    print(f\"DB: '{DB_NAME}' not yet present OR no collection is present in the DB\")\n",
    "    return False\n",
    "\n",
    "\n",
    "_ = checkExistence_DB(DB_NAME=DB_NAME, client=client)"
   ]
  },
  {
   "cell_type": "markdown",
   "metadata": {},
   "source": [
    "### STEP 2: Create a collection"
   ]
  },
  {
   "cell_type": "code",
   "execution_count": 5,
   "metadata": {},
   "outputs": [],
   "source": [
    "COLLECTION_NAME = \"SEUN_Products\"\n",
    "collection = dataBase[COLLECTION_NAME]"
   ]
  },
  {
   "cell_type": "code",
   "execution_count": 6,
   "metadata": {},
   "outputs": [
    {
     "name": "stdout",
     "output_type": "stream",
     "text": [
      "Collection:'SEUN_Products' in Database:'SeunDB' does not exists OR \n",
      "    no documents are present in the collection\n"
     ]
    }
   ],
   "source": [
    "# let's verify whether we have our database in the list or not \n",
    "# we'll use the following function:-\n",
    "\n",
    "def checkExistence_COL(COLLECTION_NAME, DB_NAME, db):\n",
    "    \"\"\"It verifies the existence of collection name in a database\"\"\"\n",
    "    collection_list = db.list_collection_names()\n",
    "    \n",
    "    if COLLECTION_NAME in collection_list:\n",
    "        print(f\"Collection:'{COLLECTION_NAME}' in Database:'{DB_NAME}' exists\")\n",
    "        return True\n",
    "    \n",
    "    print(f\"Collection:'{COLLECTION_NAME}' in Database:'{DB_NAME}' does not exists OR \\n\\\n",
    "    no documents are present in the collection\")\n",
    "    return False\n",
    "\n",
    "\n",
    "_ = checkExistence_COL(COLLECTION_NAME=COLLECTION_NAME, DB_NAME=DB_NAME, db=dataBase)"
   ]
  },
  {
   "cell_type": "markdown",
   "metadata": {},
   "source": [
    "### STEP 3: Insert a record in the collection"
   ]
  },
  {
   "cell_type": "code",
   "execution_count": 7,
   "metadata": {},
   "outputs": [
    {
     "data": {
      "text/plain": [
       "<pymongo.results.InsertOneResult at 0x268cb9c3900>"
      ]
     },
     "execution_count": 7,
     "metadata": {},
     "output_type": "execute_result"
    }
   ],
   "source": [
    "record = {'companyName': 'SEUN Glow',\n",
    "         'product': 'Skin Success',\n",
    "         'Productcollection': 'Skin Beauty Body Cream'}\n",
    "\n",
    "collection.insert_one(record)"
   ]
  },
  {
   "cell_type": "code",
   "execution_count": 8,
   "metadata": {},
   "outputs": [
    {
     "name": "stdout",
     "output_type": "stream",
     "text": [
      "Collection:'SEUN_Products' in Database:'SeunDB' exists\n"
     ]
    }
   ],
   "source": [
    "_ = checkExistence_COL(COLLECTION_NAME=COLLECTION_NAME, DB_NAME=DB_NAME, db=dataBase)"
   ]
  },
  {
   "cell_type": "markdown",
   "metadata": {},
   "source": [
    "Now you can verify in Compass that SeunDB DB exists: -\n",
    "\n",
    "> ![verify Db](Mongo_db.PNG)\n",
    "> **NOTE**: You may need to click refresh button if your DB is not visible here.\n",
    "\n",
    "You'll find collection name here- \n",
    "> ![verify Collection](img2.PNG)\n",
    "\n",
    "Verify your inserted record with a unique id which is given by mongoDB by default -\n",
    "> ![check inserted document](Img3.PNG)\n",
    "\n",
    "Let's reverify whether our database and collection exists or not by using the function that we have defined before."
   ]
  },
  {
   "cell_type": "code",
   "execution_count": 9,
   "metadata": {},
   "outputs": [
    {
     "name": "stdout",
     "output_type": "stream",
     "text": [
      "DB: 'SeunDB' exists\n"
     ]
    }
   ],
   "source": [
    "# Verify DATABASE\n",
    "_ = checkExistence_DB(DB_NAME=DB_NAME, client=client)"
   ]
  },
  {
   "cell_type": "code",
   "execution_count": 10,
   "metadata": {},
   "outputs": [
    {
     "name": "stdout",
     "output_type": "stream",
     "text": [
      "Collection:'SEUN_Products' in Database:'SeunDB' exists\n"
     ]
    }
   ],
   "source": [
    "# Verify COLLECTION\n",
    "_ = checkExistence_COL(COLLECTION_NAME=COLLECTION_NAME, DB_NAME=DB_NAME, db=dataBase)"
   ]
  },
  {
   "cell_type": "markdown",
   "metadata": {},
   "source": [
    "### STEP 4: Insert multiple records\n"
   ]
  },
  {
   "cell_type": "code",
   "execution_count": 11,
   "metadata": {},
   "outputs": [],
   "source": [
    "\n",
    "list_of_records = [\n",
    "    {'companyName': 'Seun Hair Collection',\n",
    "     'product': 'Affordable Hair',\n",
    "     'producttype': 'Bone Straight'},\n",
    "    \n",
    "    {'companyName': 'SEUN Glow',\n",
    "         'product': 'Skin Success',\n",
    "         'Productcollection': 'Skin Beauty Body Cream'},\n",
    "    \n",
    "    {'companyName': 'SEUN Glow',\n",
    "         'product': 'Hair Shine ',\n",
    "         'Productcollection': 'Hair Beauty Cream'}\n",
    "]\n",
    "\n",
    "rec = collection.insert_many(list_of_records)"
   ]
  },
  {
   "cell_type": "code",
   "execution_count": 12,
   "metadata": {},
   "outputs": [
    {
     "name": "stdout",
     "output_type": "stream",
     "text": [
      "0. 602ca1345d19ef9a558b9833\n",
      "1. 602ca1345d19ef9a558b9834\n",
      "2. 602ca1345d19ef9a558b9835\n"
     ]
    }
   ],
   "source": [
    "# lets print he unique ID that of the record that we have inserted -\n",
    "inserted_IDs = rec.inserted_ids\n",
    "\n",
    "for idx, unique_ids in enumerate(inserted_IDs):\n",
    "    print(f\"{idx}. {unique_ids}\")"
   ]
  },
  {
   "cell_type": "markdown",
   "metadata": {},
   "source": [
    "We can verify the inserted records by refreshing our compass document-\n",
    "\n",
    "> ![inserted list of records](Img4.PNG)"
   ]
  },
  {
   "cell_type": "markdown",
   "metadata": {},
   "source": [
    "You can override the default unique Id by giving a user defined as shown below -\n"
   ]
  },
  {
   "cell_type": "code",
   "execution_count": 13,
   "metadata": {},
   "outputs": [],
   "source": [
    "COLLECTION_NAME = \"Seun_Collection\"\n",
    "faculties = dataBase[COLLECTION_NAME]\n",
    "\n",
    "list_of_records_user_defined_id = [\n",
    "    {\"_id\": \"1\",\n",
    "    \"companyName\": \"SeunCollection\",\n",
    "    \"Faculty\": \"Oluwaseun Tope\"},\n",
    "    {\"_id\": \"2\",\n",
    "    \"companyName\": \"SeunCollection\",\n",
    "    \"Faculty\": \"Seun Oyero\"},\n",
    "]\n",
    "\n",
    "faculties_record = faculties.insert_many(list_of_records_user_defined_id)"
   ]
  },
  {
   "cell_type": "markdown",
   "metadata": {},
   "source": [
    "refresh the Compass tool and you'll see a fresh collection is created by name Seun_Collection\n",
    "and this time _id is defined by us. Refer the highlighted portion of the image below:- \n",
    "    \n",
    "> ![unique_id](Img6.PNG)\n",
    "\n",
    "> **NOTE**: Make sure the \\_id of the records that you insert are unique other wise you'll get a _BulkWriteError_ which comes because of duplicate key\n",
    "\n",
    "### STEP 5: Find method in MongoDB"
   ]
  },
  {
   "cell_type": "code",
   "execution_count": 14,
   "metadata": {},
   "outputs": [
    {
     "name": "stdout",
     "output_type": "stream",
     "text": [
      "The first record of collection: \n",
      "Seun_Collection is=\n",
      "{'_id': '1', 'companyName': 'SeunCollection', 'Faculty': 'Oluwaseun Tope'}\n"
     ]
    }
   ],
   "source": [
    "find_first_record = faculties.find_one()\n",
    "\n",
    "print(f\"The first record of collection: \\n{COLLECTION_NAME} is=\\\n",
    "\\n{find_first_record}\")"
   ]
  },
  {
   "cell_type": "code",
   "execution_count": 15,
   "metadata": {},
   "outputs": [
    {
     "name": "stdout",
     "output_type": "stream",
     "text": [
      "0: {'_id': '1', 'companyName': 'SeunCollection', 'Faculty': 'Oluwaseun Tope'}\n",
      "1: {'_id': '2', 'companyName': 'SeunCollection', 'Faculty': 'Seun Oyero'}\n"
     ]
    }
   ],
   "source": [
    "# find all the record at once present in thr record with all the fields\n",
    "all_record = faculties.find()\n",
    "\n",
    "for idx, record in enumerate(all_record):\n",
    "    print(f\"{idx}: {record}\")"
   ]
  },
  {
   "cell_type": "code",
   "execution_count": 16,
   "metadata": {},
   "outputs": [
    {
     "name": "stdout",
     "output_type": "stream",
     "text": [
      "0: {'_id': '1', 'Faculty': 'Oluwaseun Tope'}\n",
      "1: {'_id': '2', 'Faculty': 'Seun Oyero'}\n"
     ]
    }
   ],
   "source": [
    "# find all the record at once present in the record with SPECIFIC fields\n",
    "all_record = faculties.find({}, {\"Faculty\"})\n",
    "\n",
    "for idx, record in enumerate(all_record):\n",
    "    print(f\"{idx}: {record}\")"
   ]
  },
  {
   "cell_type": "markdown",
   "metadata": {},
   "source": [
    "### STEP 6: Query or filter out data in MongoDB"
   ]
  },
  {
   "cell_type": "code",
   "execution_count": 17,
   "metadata": {},
   "outputs": [
    {
     "name": "stdout",
     "output_type": "stream",
     "text": [
      "{'_id': '1', 'companyName': 'SeunCollection', 'Faculty': 'Oluwaseun Tope'}\n"
     ]
    }
   ],
   "source": [
    "query1 = {\"_id\": '1'}\n",
    "\n",
    "results = faculties.find(query1)\n",
    "for data in results:\n",
    "    print(data)"
   ]
  },
  {
   "cell_type": "code",
   "execution_count": 18,
   "metadata": {},
   "outputs": [
    {
     "name": "stdout",
     "output_type": "stream",
     "text": [
      "{'_id': '2', 'companyName': 'SeunCollection', 'Faculty': 'Seun Oyero'}\n"
     ]
    }
   ],
   "source": [
    "query2 = {\"_id\": {\"$gt\": \"1\"}}\n",
    "\n",
    "results = faculties.find(query2)\n",
    "for data in results:\n",
    "    print(data)"
   ]
  },
  {
   "cell_type": "markdown",
   "metadata": {},
   "source": [
    "### STEP 7: Delete one or many documents in MongoDB"
   ]
  },
  {
   "cell_type": "code",
   "execution_count": 19,
   "metadata": {},
   "outputs": [
    {
     "data": {
      "text/plain": [
       "<pymongo.results.InsertManyResult at 0x268cb9ddcc0>"
      ]
     },
     "execution_count": 19,
     "metadata": {},
     "output_type": "execute_result"
    }
   ],
   "source": [
    "# Lets add some random data in faculties\n",
    "random_data = [\n",
    "    {'_id': '3', 'companyName': 'Seun', 'Faculty': 'XYZ'},\n",
    "    {'_id': '4', 'companyName': 'Seun', 'Faculty': 'ABC'},\n",
    "    {'_id': '5', 'companyName': 'Seun', 'Faculty': 'PQR'},\n",
    "]\n",
    "\n",
    "faculties.insert_many(random_data)"
   ]
  },
  {
   "cell_type": "code",
   "execution_count": 20,
   "metadata": {},
   "outputs": [
    {
     "data": {
      "text/plain": [
       "<pymongo.results.DeleteResult at 0x268cb9e3640>"
      ]
     },
     "execution_count": 20,
     "metadata": {},
     "output_type": "execute_result"
    }
   ],
   "source": [
    "# Lets delete one document in faculties\n",
    "query_to_delete = {\"Faculty\": \"XYZ\"}\n",
    "\n",
    "faculties.delete_one(query_to_delete)"
   ]
  },
  {
   "cell_type": "code",
   "execution_count": 21,
   "metadata": {},
   "outputs": [
    {
     "data": {
      "text/plain": [
       "<pymongo.results.DeleteResult at 0x268cb9dd740>"
      ]
     },
     "execution_count": 21,
     "metadata": {},
     "output_type": "execute_result"
    }
   ],
   "source": [
    "# lets delete multiple record\n",
    "multi_query_to_delete = {\"_id\": {\"$gte\": \"4\"}}\n",
    "\n",
    "faculties.delete_many(multi_query_to_delete)"
   ]
  },
  {
   "cell_type": "markdown",
   "metadata": {},
   "source": [
    "> **NOTE**: In order to delete all the documents present in the collection you can just pass and empty dictionary as shown below: -\n",
    "```python\n",
    "faculties.delete_many({})\n",
    "```"
   ]
  }
 ],
 "metadata": {
  "kernelspec": {
   "display_name": "Python 3",
   "language": "python",
   "name": "python3"
  },
  "language_info": {
   "codemirror_mode": {
    "name": "ipython",
    "version": 3
   },
   "file_extension": ".py",
   "mimetype": "text/x-python",
   "name": "python",
   "nbconvert_exporter": "python",
   "pygments_lexer": "ipython3",
   "version": "3.8.5"
  }
 },
 "nbformat": 4,
 "nbformat_minor": 4
}
